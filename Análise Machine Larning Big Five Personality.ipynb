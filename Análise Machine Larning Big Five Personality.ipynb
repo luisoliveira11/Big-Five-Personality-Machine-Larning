{
 "cells": [
  {
   "cell_type": "code",
   "execution_count": 1,
   "id": "76412ee0",
   "metadata": {},
   "outputs": [
    {
     "name": "stdout",
     "output_type": "stream",
     "text": [
      "Requirement already satisfied: yellowbrick in c:\\users\\user\\anaconda3\\lib\\site-packages (1.5)\n",
      "Requirement already satisfied: matplotlib!=3.0.0,>=2.0.2 in c:\\users\\user\\anaconda3\\lib\\site-packages (from yellowbrick) (3.8.0)\n",
      "Requirement already satisfied: scipy>=1.0.0 in c:\\users\\user\\anaconda3\\lib\\site-packages (from yellowbrick) (1.11.4)\n",
      "Requirement already satisfied: scikit-learn>=1.0.0 in c:\\users\\user\\anaconda3\\lib\\site-packages (from yellowbrick) (1.2.2)\n",
      "Requirement already satisfied: numpy>=1.16.0 in c:\\users\\user\\anaconda3\\lib\\site-packages (from yellowbrick) (1.26.4)\n",
      "Requirement already satisfied: cycler>=0.10.0 in c:\\users\\user\\anaconda3\\lib\\site-packages (from yellowbrick) (0.11.0)\n",
      "Requirement already satisfied: contourpy>=1.0.1 in c:\\users\\user\\anaconda3\\lib\\site-packages (from matplotlib!=3.0.0,>=2.0.2->yellowbrick) (1.2.0)\n",
      "Requirement already satisfied: fonttools>=4.22.0 in c:\\users\\user\\anaconda3\\lib\\site-packages (from matplotlib!=3.0.0,>=2.0.2->yellowbrick) (4.25.0)\n",
      "Requirement already satisfied: kiwisolver>=1.0.1 in c:\\users\\user\\anaconda3\\lib\\site-packages (from matplotlib!=3.0.0,>=2.0.2->yellowbrick) (1.4.4)\n",
      "Requirement already satisfied: packaging>=20.0 in c:\\users\\user\\anaconda3\\lib\\site-packages (from matplotlib!=3.0.0,>=2.0.2->yellowbrick) (23.2)\n",
      "Requirement already satisfied: pillow>=6.2.0 in c:\\users\\user\\anaconda3\\lib\\site-packages (from matplotlib!=3.0.0,>=2.0.2->yellowbrick) (10.2.0)\n",
      "Requirement already satisfied: pyparsing>=2.3.1 in c:\\users\\user\\anaconda3\\lib\\site-packages (from matplotlib!=3.0.0,>=2.0.2->yellowbrick) (3.0.9)\n",
      "Requirement already satisfied: python-dateutil>=2.7 in c:\\users\\user\\anaconda3\\lib\\site-packages (from matplotlib!=3.0.0,>=2.0.2->yellowbrick) (2.8.2)\n",
      "Requirement already satisfied: joblib>=1.1.1 in c:\\users\\user\\anaconda3\\lib\\site-packages (from scikit-learn>=1.0.0->yellowbrick) (1.2.0)\n",
      "Requirement already satisfied: threadpoolctl>=2.0.0 in c:\\users\\user\\anaconda3\\lib\\site-packages (from scikit-learn>=1.0.0->yellowbrick) (2.2.0)\n",
      "Requirement already satisfied: six>=1.5 in c:\\users\\user\\anaconda3\\lib\\site-packages (from python-dateutil>=2.7->matplotlib!=3.0.0,>=2.0.2->yellowbrick) (1.16.0)\n"
     ]
    }
   ],
   "source": [
    "!pip install yellowbrick"
   ]
  },
  {
   "cell_type": "code",
   "execution_count": 2,
   "id": "a3dc23b8",
   "metadata": {},
   "outputs": [
    {
     "name": "stdout",
     "output_type": "stream",
     "text": [
      "Collecting gradio==3.50Note: you may need to restart the kernel to use updated packages.\n",
      "\n",
      "  Obtaining dependency information for gradio==3.50 from https://files.pythonhosted.org/packages/6c/3c/0d6407c64ac0ecf8986a6c16718325a9d6f89067e418546eb7c7f833f89b/gradio-3.50.0-py3-none-any.whl.metadata\n",
      "  Using cached gradio-3.50.0-py3-none-any.whl.metadata (17 kB)\n",
      "Requirement already satisfied: aiofiles<24.0,>=22.0 in c:\\users\\user\\anaconda3\\lib\\site-packages (from gradio==3.50) (22.1.0)\n",
      "Requirement already satisfied: altair<6.0,>=4.2.0 in c:\\users\\user\\anaconda3\\lib\\site-packages (from gradio==3.50) (5.2.0)\n",
      "Requirement already satisfied: fastapi in c:\\users\\user\\anaconda3\\lib\\site-packages (from gradio==3.50) (0.110.0)\n",
      "Requirement already satisfied: ffmpy in c:\\users\\user\\anaconda3\\lib\\site-packages (from gradio==3.50) (0.3.2)\n",
      "Collecting gradio-client==0.6.1 (from gradio==3.50)\n",
      "  Obtaining dependency information for gradio-client==0.6.1 from https://files.pythonhosted.org/packages/7d/04/e1654ee28fb2686514ca8ae31af5e489403964d48764788f9a168e069c0f/gradio_client-0.6.1-py3-none-any.whl.metadata\n",
      "  Using cached gradio_client-0.6.1-py3-none-any.whl.metadata (7.1 kB)\n",
      "Requirement already satisfied: httpx in c:\\users\\user\\anaconda3\\lib\\site-packages (from gradio==3.50) (0.27.0)\n",
      "Requirement already satisfied: huggingface-hub>=0.14.0 in c:\\users\\user\\anaconda3\\lib\\site-packages (from gradio==3.50) (0.21.4)\n",
      "Requirement already satisfied: importlib-resources<7.0,>=1.3 in c:\\users\\user\\anaconda3\\lib\\site-packages (from gradio==3.50) (6.1.2)\n",
      "Requirement already satisfied: jinja2<4.0 in c:\\users\\user\\anaconda3\\lib\\site-packages (from gradio==3.50) (3.1.3)\n",
      "Requirement already satisfied: markupsafe~=2.0 in c:\\users\\user\\anaconda3\\lib\\site-packages (from gradio==3.50) (2.1.3)\n",
      "Requirement already satisfied: matplotlib~=3.0 in c:\\users\\user\\anaconda3\\lib\\site-packages (from gradio==3.50) (3.8.0)\n",
      "Requirement already satisfied: numpy~=1.0 in c:\\users\\user\\anaconda3\\lib\\site-packages (from gradio==3.50) (1.26.4)\n",
      "Requirement already satisfied: orjson~=3.0 in c:\\users\\user\\anaconda3\\lib\\site-packages (from gradio==3.50) (3.9.15)\n",
      "Requirement already satisfied: packaging in c:\\users\\user\\anaconda3\\lib\\site-packages (from gradio==3.50) (23.2)\n",
      "Requirement already satisfied: pandas<3.0,>=1.0 in c:\\users\\user\\anaconda3\\lib\\site-packages (from gradio==3.50) (2.1.4)\n",
      "Requirement already satisfied: pillow<11.0,>=8.0 in c:\\users\\user\\anaconda3\\lib\\site-packages (from gradio==3.50) (10.2.0)\n",
      "Requirement already satisfied: pydantic!=1.8,!=1.8.1,!=2.0.0,!=2.0.1,<3.0.0,>=1.7.4 in c:\\users\\user\\anaconda3\\lib\\site-packages (from gradio==3.50) (2.6.3)\n",
      "Requirement already satisfied: pydub in c:\\users\\user\\anaconda3\\lib\\site-packages (from gradio==3.50) (0.25.1)\n",
      "Requirement already satisfied: python-multipart in c:\\users\\user\\anaconda3\\lib\\site-packages (from gradio==3.50) (0.0.9)\n",
      "Requirement already satisfied: pyyaml<7.0,>=5.0 in c:\\users\\user\\anaconda3\\lib\\site-packages (from gradio==3.50) (6.0.1)\n",
      "Requirement already satisfied: requests~=2.0 in c:\\users\\user\\anaconda3\\lib\\site-packages (from gradio==3.50) (2.31.0)\n",
      "Requirement already satisfied: semantic-version~=2.0 in c:\\users\\user\\anaconda3\\lib\\site-packages (from gradio==3.50) (2.10.0)\n",
      "Requirement already satisfied: typing-extensions~=4.0 in c:\\users\\user\\anaconda3\\lib\\site-packages (from gradio==3.50) (4.10.0)\n",
      "Requirement already satisfied: uvicorn>=0.14.0 in c:\\users\\user\\anaconda3\\lib\\site-packages (from gradio==3.50) (0.27.1)\n",
      "Requirement already satisfied: websockets<12.0,>=10.0 in c:\\users\\user\\anaconda3\\lib\\site-packages (from gradio==3.50) (11.0.3)\n",
      "Requirement already satisfied: fsspec in c:\\users\\user\\anaconda3\\lib\\site-packages (from gradio-client==0.6.1->gradio==3.50) (2024.2.0)\n",
      "Requirement already satisfied: jsonschema>=3.0 in c:\\users\\user\\anaconda3\\lib\\site-packages (from altair<6.0,>=4.2.0->gradio==3.50) (4.19.2)\n",
      "Requirement already satisfied: toolz in c:\\users\\user\\anaconda3\\lib\\site-packages (from altair<6.0,>=4.2.0->gradio==3.50) (0.12.1)\n",
      "Requirement already satisfied: filelock in c:\\users\\user\\anaconda3\\lib\\site-packages (from huggingface-hub>=0.14.0->gradio==3.50) (3.13.1)\n",
      "Requirement already satisfied: tqdm>=4.42.1 in c:\\users\\user\\anaconda3\\lib\\site-packages (from huggingface-hub>=0.14.0->gradio==3.50) (4.65.0)\n",
      "Requirement already satisfied: contourpy>=1.0.1 in c:\\users\\user\\anaconda3\\lib\\site-packages (from matplotlib~=3.0->gradio==3.50) (1.2.0)\n",
      "Requirement already satisfied: cycler>=0.10 in c:\\users\\user\\anaconda3\\lib\\site-packages (from matplotlib~=3.0->gradio==3.50) (0.11.0)\n",
      "Requirement already satisfied: fonttools>=4.22.0 in c:\\users\\user\\anaconda3\\lib\\site-packages (from matplotlib~=3.0->gradio==3.50) (4.25.0)\n",
      "Requirement already satisfied: kiwisolver>=1.0.1 in c:\\users\\user\\anaconda3\\lib\\site-packages (from matplotlib~=3.0->gradio==3.50) (1.4.4)\n",
      "Requirement already satisfied: pyparsing>=2.3.1 in c:\\users\\user\\anaconda3\\lib\\site-packages (from matplotlib~=3.0->gradio==3.50) (3.0.9)\n",
      "Requirement already satisfied: python-dateutil>=2.7 in c:\\users\\user\\anaconda3\\lib\\site-packages (from matplotlib~=3.0->gradio==3.50) (2.8.2)\n",
      "Requirement already satisfied: pytz>=2020.1 in c:\\users\\user\\anaconda3\\lib\\site-packages (from pandas<3.0,>=1.0->gradio==3.50) (2024.1)\n",
      "Requirement already satisfied: tzdata>=2022.1 in c:\\users\\user\\anaconda3\\lib\\site-packages (from pandas<3.0,>=1.0->gradio==3.50) (2024.1)\n",
      "Requirement already satisfied: annotated-types>=0.4.0 in c:\\users\\user\\anaconda3\\lib\\site-packages (from pydantic!=1.8,!=1.8.1,!=2.0.0,!=2.0.1,<3.0.0,>=1.7.4->gradio==3.50) (0.6.0)\n",
      "Requirement already satisfied: pydantic-core==2.16.3 in c:\\users\\user\\anaconda3\\lib\\site-packages (from pydantic!=1.8,!=1.8.1,!=2.0.0,!=2.0.1,<3.0.0,>=1.7.4->gradio==3.50) (2.16.3)\n",
      "Requirement already satisfied: charset-normalizer<4,>=2 in c:\\users\\user\\anaconda3\\lib\\site-packages (from requests~=2.0->gradio==3.50) (2.0.4)\n",
      "Requirement already satisfied: idna<4,>=2.5 in c:\\users\\user\\anaconda3\\lib\\site-packages (from requests~=2.0->gradio==3.50) (3.4)\n",
      "Requirement already satisfied: urllib3<3,>=1.21.1 in c:\\users\\user\\anaconda3\\lib\\site-packages (from requests~=2.0->gradio==3.50) (2.2.1)\n",
      "Requirement already satisfied: certifi>=2017.4.17 in c:\\users\\user\\anaconda3\\lib\\site-packages (from requests~=2.0->gradio==3.50) (2024.2.2)\n",
      "Requirement already satisfied: click>=7.0 in c:\\users\\user\\anaconda3\\lib\\site-packages (from uvicorn>=0.14.0->gradio==3.50) (8.1.7)\n",
      "Requirement already satisfied: h11>=0.8 in c:\\users\\user\\anaconda3\\lib\\site-packages (from uvicorn>=0.14.0->gradio==3.50) (0.14.0)\n",
      "Requirement already satisfied: starlette<0.37.0,>=0.36.3 in c:\\users\\user\\anaconda3\\lib\\site-packages (from fastapi->gradio==3.50) (0.36.3)\n",
      "Requirement already satisfied: anyio in c:\\users\\user\\anaconda3\\lib\\site-packages (from httpx->gradio==3.50) (3.5.0)\n",
      "Requirement already satisfied: httpcore==1.* in c:\\users\\user\\anaconda3\\lib\\site-packages (from httpx->gradio==3.50) (1.0.4)\n",
      "Requirement already satisfied: sniffio in c:\\users\\user\\anaconda3\\lib\\site-packages (from httpx->gradio==3.50) (1.3.1)\n",
      "Requirement already satisfied: colorama in c:\\users\\user\\anaconda3\\lib\\site-packages (from click>=7.0->uvicorn>=0.14.0->gradio==3.50) (0.4.6)\n",
      "Requirement already satisfied: attrs>=22.2.0 in c:\\users\\user\\anaconda3\\lib\\site-packages (from jsonschema>=3.0->altair<6.0,>=4.2.0->gradio==3.50) (23.1.0)\n",
      "Requirement already satisfied: jsonschema-specifications>=2023.03.6 in c:\\users\\user\\anaconda3\\lib\\site-packages (from jsonschema>=3.0->altair<6.0,>=4.2.0->gradio==3.50) (2023.12.1)\n",
      "Requirement already satisfied: referencing>=0.28.4 in c:\\users\\user\\anaconda3\\lib\\site-packages (from jsonschema>=3.0->altair<6.0,>=4.2.0->gradio==3.50) (0.33.0)\n",
      "Requirement already satisfied: rpds-py>=0.7.1 in c:\\users\\user\\anaconda3\\lib\\site-packages (from jsonschema>=3.0->altair<6.0,>=4.2.0->gradio==3.50) (0.18.0)\n",
      "Requirement already satisfied: six>=1.5 in c:\\users\\user\\anaconda3\\lib\\site-packages (from python-dateutil>=2.7->matplotlib~=3.0->gradio==3.50) (1.16.0)\n",
      "Using cached gradio-3.50.0-py3-none-any.whl (20.3 MB)\n",
      "Using cached gradio_client-0.6.1-py3-none-any.whl (299 kB)\n",
      "Installing collected packages: gradio-client, gradio\n",
      "  Attempting uninstall: gradio-client\n",
      "    Found existing installation: gradio_client 0.11.0\n",
      "    Uninstalling gradio_client-0.11.0:\n",
      "      Successfully uninstalled gradio_client-0.11.0\n",
      "  Attempting uninstall: gradio\n",
      "    Found existing installation: gradio 4.20.1\n",
      "    Uninstalling gradio-4.20.1:\n",
      "      Successfully uninstalled gradio-4.20.1\n",
      "Successfully installed gradio-3.50.0 gradio-client-0.6.1\n"
     ]
    }
   ],
   "source": [
    "pip install gradio==3.50"
   ]
  },
  {
   "cell_type": "code",
   "execution_count": 3,
   "id": "6a673cc1",
   "metadata": {},
   "outputs": [
    {
     "name": "stdout",
     "output_type": "stream",
     "text": [
      "Name: gradio\n",
      "Version: 3.50.0\n",
      "Summary: Python library for easily interacting with trained machine learning models\n",
      "Home-page: \n",
      "Author: \n",
      "Author-email: Abubakar Abid <team@gradio.app>, Ali Abid <team@gradio.app>, Ali Abdalla <team@gradio.app>, Dawood Khan <team@gradio.app>, Ahsen Khaliq <team@gradio.app>, Pete Allen <team@gradio.app>, Ömer Faruk Özdemir <team@gradio.app>\n",
      "License: \n",
      "Location: C:\\Users\\User\\anaconda3\\Lib\\site-packages\n",
      "Requires: aiofiles, altair, fastapi, ffmpy, gradio-client, httpx, huggingface-hub, importlib-resources, jinja2, markupsafe, matplotlib, numpy, orjson, packaging, pandas, pillow, pydantic, pydub, python-multipart, pyyaml, requests, semantic-version, typing-extensions, uvicorn, websockets\n",
      "Required-by: \n"
     ]
    }
   ],
   "source": [
    "!pip show gradio"
   ]
  },
  {
   "cell_type": "markdown",
   "id": "e245cfa2",
   "metadata": {},
   "source": [
    "## Importando blibliotecas"
   ]
  },
  {
   "cell_type": "code",
   "execution_count": 5,
   "id": "aeef6322",
   "metadata": {},
   "outputs": [],
   "source": [
    "import numpy as np\n",
    "import pandas as pd\n",
    "import matplotlib.pyplot as plt\n",
    "import seaborn as sns\n",
    "from sklearn.cluster import KMeans\n",
    "from sklearn.decomposition import PCA\n",
    "from sklearn.preprocessing import StandardScaler\n",
    "import gradio as gr\n",
    "from yellowbrick.cluster import KElbowVisualizer"
   ]
  },
  {
   "cell_type": "markdown",
   "id": "cf4253a8",
   "metadata": {},
   "source": [
    "## Carregar os dados do arquivo CSV"
   ]
  },
  {
   "cell_type": "code",
   "execution_count": 6,
   "id": "df677d7f",
   "metadata": {},
   "outputs": [],
   "source": [
    "data = pd.read_csv('data-final.csv', sep='\\t')"
   ]
  },
  {
   "cell_type": "markdown",
   "id": "2938703d",
   "metadata": {},
   "source": [
    "## Verificando o dataset"
   ]
  },
  {
   "cell_type": "code",
   "execution_count": 7,
   "id": "63397148",
   "metadata": {},
   "outputs": [
    {
     "data": {
      "text/html": [
       "<div>\n",
       "<style scoped>\n",
       "    .dataframe tbody tr th:only-of-type {\n",
       "        vertical-align: middle;\n",
       "    }\n",
       "\n",
       "    .dataframe tbody tr th {\n",
       "        vertical-align: top;\n",
       "    }\n",
       "\n",
       "    .dataframe thead th {\n",
       "        text-align: right;\n",
       "    }\n",
       "</style>\n",
       "<table border=\"1\" class=\"dataframe\">\n",
       "  <thead>\n",
       "    <tr style=\"text-align: right;\">\n",
       "      <th></th>\n",
       "      <th>EXT1</th>\n",
       "      <th>EXT2</th>\n",
       "      <th>EXT3</th>\n",
       "      <th>EXT4</th>\n",
       "      <th>EXT5</th>\n",
       "      <th>EXT6</th>\n",
       "      <th>EXT7</th>\n",
       "      <th>EXT8</th>\n",
       "      <th>EXT9</th>\n",
       "      <th>EXT10</th>\n",
       "      <th>...</th>\n",
       "      <th>dateload</th>\n",
       "      <th>screenw</th>\n",
       "      <th>screenh</th>\n",
       "      <th>introelapse</th>\n",
       "      <th>testelapse</th>\n",
       "      <th>endelapse</th>\n",
       "      <th>IPC</th>\n",
       "      <th>country</th>\n",
       "      <th>lat_appx_lots_of_err</th>\n",
       "      <th>long_appx_lots_of_err</th>\n",
       "    </tr>\n",
       "  </thead>\n",
       "  <tbody>\n",
       "    <tr>\n",
       "      <th>0</th>\n",
       "      <td>4.0</td>\n",
       "      <td>1.0</td>\n",
       "      <td>5.0</td>\n",
       "      <td>2.0</td>\n",
       "      <td>5.0</td>\n",
       "      <td>1.0</td>\n",
       "      <td>5.0</td>\n",
       "      <td>2.0</td>\n",
       "      <td>4.0</td>\n",
       "      <td>1.0</td>\n",
       "      <td>...</td>\n",
       "      <td>2016-03-03 02:01:01</td>\n",
       "      <td>768.0</td>\n",
       "      <td>1024.0</td>\n",
       "      <td>9.0</td>\n",
       "      <td>234.0</td>\n",
       "      <td>6</td>\n",
       "      <td>1</td>\n",
       "      <td>GB</td>\n",
       "      <td>51.5448</td>\n",
       "      <td>0.1991</td>\n",
       "    </tr>\n",
       "    <tr>\n",
       "      <th>1</th>\n",
       "      <td>3.0</td>\n",
       "      <td>5.0</td>\n",
       "      <td>3.0</td>\n",
       "      <td>4.0</td>\n",
       "      <td>3.0</td>\n",
       "      <td>3.0</td>\n",
       "      <td>2.0</td>\n",
       "      <td>5.0</td>\n",
       "      <td>1.0</td>\n",
       "      <td>5.0</td>\n",
       "      <td>...</td>\n",
       "      <td>2016-03-03 02:01:20</td>\n",
       "      <td>1360.0</td>\n",
       "      <td>768.0</td>\n",
       "      <td>12.0</td>\n",
       "      <td>179.0</td>\n",
       "      <td>11</td>\n",
       "      <td>1</td>\n",
       "      <td>MY</td>\n",
       "      <td>3.1698</td>\n",
       "      <td>101.706</td>\n",
       "    </tr>\n",
       "    <tr>\n",
       "      <th>2</th>\n",
       "      <td>2.0</td>\n",
       "      <td>3.0</td>\n",
       "      <td>4.0</td>\n",
       "      <td>4.0</td>\n",
       "      <td>3.0</td>\n",
       "      <td>2.0</td>\n",
       "      <td>1.0</td>\n",
       "      <td>3.0</td>\n",
       "      <td>2.0</td>\n",
       "      <td>5.0</td>\n",
       "      <td>...</td>\n",
       "      <td>2016-03-03 02:01:56</td>\n",
       "      <td>1366.0</td>\n",
       "      <td>768.0</td>\n",
       "      <td>3.0</td>\n",
       "      <td>186.0</td>\n",
       "      <td>7</td>\n",
       "      <td>1</td>\n",
       "      <td>GB</td>\n",
       "      <td>54.9119</td>\n",
       "      <td>-1.3833</td>\n",
       "    </tr>\n",
       "    <tr>\n",
       "      <th>3</th>\n",
       "      <td>2.0</td>\n",
       "      <td>2.0</td>\n",
       "      <td>2.0</td>\n",
       "      <td>3.0</td>\n",
       "      <td>4.0</td>\n",
       "      <td>2.0</td>\n",
       "      <td>2.0</td>\n",
       "      <td>4.0</td>\n",
       "      <td>1.0</td>\n",
       "      <td>4.0</td>\n",
       "      <td>...</td>\n",
       "      <td>2016-03-03 02:02:02</td>\n",
       "      <td>1920.0</td>\n",
       "      <td>1200.0</td>\n",
       "      <td>186.0</td>\n",
       "      <td>219.0</td>\n",
       "      <td>7</td>\n",
       "      <td>1</td>\n",
       "      <td>GB</td>\n",
       "      <td>51.75</td>\n",
       "      <td>-1.25</td>\n",
       "    </tr>\n",
       "    <tr>\n",
       "      <th>4</th>\n",
       "      <td>3.0</td>\n",
       "      <td>3.0</td>\n",
       "      <td>3.0</td>\n",
       "      <td>3.0</td>\n",
       "      <td>5.0</td>\n",
       "      <td>3.0</td>\n",
       "      <td>3.0</td>\n",
       "      <td>5.0</td>\n",
       "      <td>3.0</td>\n",
       "      <td>4.0</td>\n",
       "      <td>...</td>\n",
       "      <td>2016-03-03 02:02:57</td>\n",
       "      <td>1366.0</td>\n",
       "      <td>768.0</td>\n",
       "      <td>8.0</td>\n",
       "      <td>315.0</td>\n",
       "      <td>17</td>\n",
       "      <td>2</td>\n",
       "      <td>KE</td>\n",
       "      <td>1.0</td>\n",
       "      <td>38.0</td>\n",
       "    </tr>\n",
       "  </tbody>\n",
       "</table>\n",
       "<p>5 rows × 110 columns</p>\n",
       "</div>"
      ],
      "text/plain": [
       "   EXT1  EXT2  EXT3  EXT4  EXT5  EXT6  EXT7  EXT8  EXT9  EXT10  ...  \\\n",
       "0   4.0   1.0   5.0   2.0   5.0   1.0   5.0   2.0   4.0    1.0  ...   \n",
       "1   3.0   5.0   3.0   4.0   3.0   3.0   2.0   5.0   1.0    5.0  ...   \n",
       "2   2.0   3.0   4.0   4.0   3.0   2.0   1.0   3.0   2.0    5.0  ...   \n",
       "3   2.0   2.0   2.0   3.0   4.0   2.0   2.0   4.0   1.0    4.0  ...   \n",
       "4   3.0   3.0   3.0   3.0   5.0   3.0   3.0   5.0   3.0    4.0  ...   \n",
       "\n",
       "              dateload  screenw  screenh  introelapse  testelapse  endelapse  \\\n",
       "0  2016-03-03 02:01:01    768.0   1024.0          9.0       234.0          6   \n",
       "1  2016-03-03 02:01:20   1360.0    768.0         12.0       179.0         11   \n",
       "2  2016-03-03 02:01:56   1366.0    768.0          3.0       186.0          7   \n",
       "3  2016-03-03 02:02:02   1920.0   1200.0        186.0       219.0          7   \n",
       "4  2016-03-03 02:02:57   1366.0    768.0          8.0       315.0         17   \n",
       "\n",
       "   IPC  country  lat_appx_lots_of_err  long_appx_lots_of_err  \n",
       "0    1       GB               51.5448                 0.1991  \n",
       "1    1       MY                3.1698                101.706  \n",
       "2    1       GB               54.9119                -1.3833  \n",
       "3    1       GB                 51.75                  -1.25  \n",
       "4    2       KE                   1.0                   38.0  \n",
       "\n",
       "[5 rows x 110 columns]"
      ]
     },
     "execution_count": 7,
     "metadata": {},
     "output_type": "execute_result"
    }
   ],
   "source": [
    "data.head()"
   ]
  },
  {
   "cell_type": "markdown",
   "id": "10cfd433",
   "metadata": {},
   "source": [
    "## Remover colunas desnecessárias"
   ]
  },
  {
   "cell_type": "code",
   "execution_count": 8,
   "id": "4cb2ebd6",
   "metadata": {},
   "outputs": [],
   "source": [
    "data.drop(data.columns[50:110], axis=1, inplace=True)"
   ]
  },
  {
   "cell_type": "markdown",
   "id": "61fe9e5d",
   "metadata": {},
   "source": [
    "## Filtrar apenas valores positivos"
   ]
  },
  {
   "cell_type": "code",
   "execution_count": 9,
   "id": "9cceee6f",
   "metadata": {},
   "outputs": [],
   "source": [
    "data = data[(data > 0.00).all(axis=1)]"
   ]
  },
  {
   "cell_type": "markdown",
   "id": "5bbb0807",
   "metadata": {},
   "source": [
    "## Normalizar os dados"
   ]
  },
  {
   "cell_type": "code",
   "execution_count": 10,
   "id": "1b387377",
   "metadata": {},
   "outputs": [],
   "source": [
    "scaler = StandardScaler()\n",
    "data_scaled = scaler.fit_transform(data)"
   ]
  },
  {
   "cell_type": "markdown",
   "id": "d73f0ba6",
   "metadata": {},
   "source": [
    "## Verificando novamente os dados"
   ]
  },
  {
   "cell_type": "code",
   "execution_count": 12,
   "id": "d4596cf8",
   "metadata": {},
   "outputs": [
    {
     "data": {
      "text/html": [
       "<div>\n",
       "<style scoped>\n",
       "    .dataframe tbody tr th:only-of-type {\n",
       "        vertical-align: middle;\n",
       "    }\n",
       "\n",
       "    .dataframe tbody tr th {\n",
       "        vertical-align: top;\n",
       "    }\n",
       "\n",
       "    .dataframe thead th {\n",
       "        text-align: right;\n",
       "    }\n",
       "</style>\n",
       "<table border=\"1\" class=\"dataframe\">\n",
       "  <thead>\n",
       "    <tr style=\"text-align: right;\">\n",
       "      <th></th>\n",
       "      <th>EXT1</th>\n",
       "      <th>EXT2</th>\n",
       "      <th>EXT3</th>\n",
       "      <th>EXT4</th>\n",
       "      <th>EXT5</th>\n",
       "      <th>EXT6</th>\n",
       "      <th>EXT7</th>\n",
       "      <th>EXT8</th>\n",
       "      <th>EXT9</th>\n",
       "      <th>EXT10</th>\n",
       "      <th>...</th>\n",
       "      <th>OPN1</th>\n",
       "      <th>OPN2</th>\n",
       "      <th>OPN3</th>\n",
       "      <th>OPN4</th>\n",
       "      <th>OPN5</th>\n",
       "      <th>OPN6</th>\n",
       "      <th>OPN7</th>\n",
       "      <th>OPN8</th>\n",
       "      <th>OPN9</th>\n",
       "      <th>OPN10</th>\n",
       "    </tr>\n",
       "  </thead>\n",
       "  <tbody>\n",
       "    <tr>\n",
       "      <th>0</th>\n",
       "      <td>4.0</td>\n",
       "      <td>1.0</td>\n",
       "      <td>5.0</td>\n",
       "      <td>2.0</td>\n",
       "      <td>5.0</td>\n",
       "      <td>1.0</td>\n",
       "      <td>5.0</td>\n",
       "      <td>2.0</td>\n",
       "      <td>4.0</td>\n",
       "      <td>1.0</td>\n",
       "      <td>...</td>\n",
       "      <td>5.0</td>\n",
       "      <td>1.0</td>\n",
       "      <td>4.0</td>\n",
       "      <td>1.0</td>\n",
       "      <td>4.0</td>\n",
       "      <td>1.0</td>\n",
       "      <td>5.0</td>\n",
       "      <td>3.0</td>\n",
       "      <td>4.0</td>\n",
       "      <td>5.0</td>\n",
       "    </tr>\n",
       "    <tr>\n",
       "      <th>1</th>\n",
       "      <td>3.0</td>\n",
       "      <td>5.0</td>\n",
       "      <td>3.0</td>\n",
       "      <td>4.0</td>\n",
       "      <td>3.0</td>\n",
       "      <td>3.0</td>\n",
       "      <td>2.0</td>\n",
       "      <td>5.0</td>\n",
       "      <td>1.0</td>\n",
       "      <td>5.0</td>\n",
       "      <td>...</td>\n",
       "      <td>1.0</td>\n",
       "      <td>2.0</td>\n",
       "      <td>4.0</td>\n",
       "      <td>2.0</td>\n",
       "      <td>3.0</td>\n",
       "      <td>1.0</td>\n",
       "      <td>4.0</td>\n",
       "      <td>2.0</td>\n",
       "      <td>5.0</td>\n",
       "      <td>3.0</td>\n",
       "    </tr>\n",
       "    <tr>\n",
       "      <th>2</th>\n",
       "      <td>2.0</td>\n",
       "      <td>3.0</td>\n",
       "      <td>4.0</td>\n",
       "      <td>4.0</td>\n",
       "      <td>3.0</td>\n",
       "      <td>2.0</td>\n",
       "      <td>1.0</td>\n",
       "      <td>3.0</td>\n",
       "      <td>2.0</td>\n",
       "      <td>5.0</td>\n",
       "      <td>...</td>\n",
       "      <td>5.0</td>\n",
       "      <td>1.0</td>\n",
       "      <td>2.0</td>\n",
       "      <td>1.0</td>\n",
       "      <td>4.0</td>\n",
       "      <td>2.0</td>\n",
       "      <td>5.0</td>\n",
       "      <td>3.0</td>\n",
       "      <td>4.0</td>\n",
       "      <td>4.0</td>\n",
       "    </tr>\n",
       "    <tr>\n",
       "      <th>3</th>\n",
       "      <td>2.0</td>\n",
       "      <td>2.0</td>\n",
       "      <td>2.0</td>\n",
       "      <td>3.0</td>\n",
       "      <td>4.0</td>\n",
       "      <td>2.0</td>\n",
       "      <td>2.0</td>\n",
       "      <td>4.0</td>\n",
       "      <td>1.0</td>\n",
       "      <td>4.0</td>\n",
       "      <td>...</td>\n",
       "      <td>4.0</td>\n",
       "      <td>2.0</td>\n",
       "      <td>5.0</td>\n",
       "      <td>2.0</td>\n",
       "      <td>3.0</td>\n",
       "      <td>1.0</td>\n",
       "      <td>4.0</td>\n",
       "      <td>4.0</td>\n",
       "      <td>3.0</td>\n",
       "      <td>3.0</td>\n",
       "    </tr>\n",
       "    <tr>\n",
       "      <th>4</th>\n",
       "      <td>3.0</td>\n",
       "      <td>3.0</td>\n",
       "      <td>3.0</td>\n",
       "      <td>3.0</td>\n",
       "      <td>5.0</td>\n",
       "      <td>3.0</td>\n",
       "      <td>3.0</td>\n",
       "      <td>5.0</td>\n",
       "      <td>3.0</td>\n",
       "      <td>4.0</td>\n",
       "      <td>...</td>\n",
       "      <td>5.0</td>\n",
       "      <td>1.0</td>\n",
       "      <td>5.0</td>\n",
       "      <td>1.0</td>\n",
       "      <td>5.0</td>\n",
       "      <td>1.0</td>\n",
       "      <td>5.0</td>\n",
       "      <td>3.0</td>\n",
       "      <td>5.0</td>\n",
       "      <td>5.0</td>\n",
       "    </tr>\n",
       "  </tbody>\n",
       "</table>\n",
       "<p>5 rows × 50 columns</p>\n",
       "</div>"
      ],
      "text/plain": [
       "   EXT1  EXT2  EXT3  EXT4  EXT5  EXT6  EXT7  EXT8  EXT9  EXT10  ...  OPN1  \\\n",
       "0   4.0   1.0   5.0   2.0   5.0   1.0   5.0   2.0   4.0    1.0  ...   5.0   \n",
       "1   3.0   5.0   3.0   4.0   3.0   3.0   2.0   5.0   1.0    5.0  ...   1.0   \n",
       "2   2.0   3.0   4.0   4.0   3.0   2.0   1.0   3.0   2.0    5.0  ...   5.0   \n",
       "3   2.0   2.0   2.0   3.0   4.0   2.0   2.0   4.0   1.0    4.0  ...   4.0   \n",
       "4   3.0   3.0   3.0   3.0   5.0   3.0   3.0   5.0   3.0    4.0  ...   5.0   \n",
       "\n",
       "   OPN2  OPN3  OPN4  OPN5  OPN6  OPN7  OPN8  OPN9  OPN10  \n",
       "0   1.0   4.0   1.0   4.0   1.0   5.0   3.0   4.0    5.0  \n",
       "1   2.0   4.0   2.0   3.0   1.0   4.0   2.0   5.0    3.0  \n",
       "2   1.0   2.0   1.0   4.0   2.0   5.0   3.0   4.0    4.0  \n",
       "3   2.0   5.0   2.0   3.0   1.0   4.0   4.0   3.0    3.0  \n",
       "4   1.0   5.0   1.0   5.0   1.0   5.0   3.0   5.0    5.0  \n",
       "\n",
       "[5 rows x 50 columns]"
      ]
     },
     "execution_count": 12,
     "metadata": {},
     "output_type": "execute_result"
    }
   ],
   "source": [
    "data.head()"
   ]
  },
  {
   "cell_type": "markdown",
   "id": "3de76ea6",
   "metadata": {},
   "source": [
    "## Redução de dimensionalidade com PCA"
   ]
  },
  {
   "cell_type": "code",
   "execution_count": 13,
   "id": "7c62faf4",
   "metadata": {},
   "outputs": [],
   "source": [
    "pca = PCA(n_components=2)\n",
    "data_pca = pca.fit_transform(data_scaled)"
   ]
  },
  {
   "cell_type": "code",
   "execution_count": 14,
   "id": "63a40b7a",
   "metadata": {},
   "outputs": [
    {
     "data": {
      "text/plain": [
       "EXT1\n",
       "3.0    247835\n",
       "1.0    216949\n",
       "2.0    176207\n",
       "4.0    166599\n",
       "5.0     66844\n",
       "Name: count, dtype: int64"
      ]
     },
     "execution_count": 14,
     "metadata": {},
     "output_type": "execute_result"
    }
   ],
   "source": [
    "data[\"EXT1\"].value_counts()"
   ]
  },
  {
   "cell_type": "markdown",
   "id": "ba34253d",
   "metadata": {},
   "source": [
    "## Encontrar o número ideal de clusters usando o gráfico de cotovelo"
   ]
  },
  {
   "cell_type": "code",
   "execution_count": 15,
   "id": "ba98c5d8",
   "metadata": {
    "scrolled": true
   },
   "outputs": [
    {
     "name": "stderr",
     "output_type": "stream",
     "text": [
      "C:\\Users\\User\\anaconda3\\Lib\\site-packages\\sklearn\\cluster\\_kmeans.py:870: FutureWarning: The default value of `n_init` will change from 10 to 'auto' in 1.4. Set the value of `n_init` explicitly to suppress the warning\n",
      "  warnings.warn(\n",
      "C:\\Users\\User\\anaconda3\\Lib\\site-packages\\sklearn\\cluster\\_kmeans.py:870: FutureWarning: The default value of `n_init` will change from 10 to 'auto' in 1.4. Set the value of `n_init` explicitly to suppress the warning\n",
      "  warnings.warn(\n",
      "C:\\Users\\User\\anaconda3\\Lib\\site-packages\\sklearn\\cluster\\_kmeans.py:870: FutureWarning: The default value of `n_init` will change from 10 to 'auto' in 1.4. Set the value of `n_init` explicitly to suppress the warning\n",
      "  warnings.warn(\n",
      "C:\\Users\\User\\anaconda3\\Lib\\site-packages\\sklearn\\cluster\\_kmeans.py:870: FutureWarning: The default value of `n_init` will change from 10 to 'auto' in 1.4. Set the value of `n_init` explicitly to suppress the warning\n",
      "  warnings.warn(\n",
      "C:\\Users\\User\\anaconda3\\Lib\\site-packages\\sklearn\\cluster\\_kmeans.py:870: FutureWarning: The default value of `n_init` will change from 10 to 'auto' in 1.4. Set the value of `n_init` explicitly to suppress the warning\n",
      "  warnings.warn(\n",
      "C:\\Users\\User\\anaconda3\\Lib\\site-packages\\sklearn\\cluster\\_kmeans.py:870: FutureWarning: The default value of `n_init` will change from 10 to 'auto' in 1.4. Set the value of `n_init` explicitly to suppress the warning\n",
      "  warnings.warn(\n",
      "C:\\Users\\User\\anaconda3\\Lib\\site-packages\\sklearn\\cluster\\_kmeans.py:870: FutureWarning: The default value of `n_init` will change from 10 to 'auto' in 1.4. Set the value of `n_init` explicitly to suppress the warning\n",
      "  warnings.warn(\n",
      "C:\\Users\\User\\anaconda3\\Lib\\site-packages\\sklearn\\cluster\\_kmeans.py:870: FutureWarning: The default value of `n_init` will change from 10 to 'auto' in 1.4. Set the value of `n_init` explicitly to suppress the warning\n",
      "  warnings.warn(\n"
     ]
    },
    {
     "data": {
      "image/png": "[encoded data removed]",
      "text/plain": [
       "<Figure size 800x550 with 2 Axes>"
      ]
     },
     "metadata": {},
     "output_type": "display_data"
    }
   ],
   "source": [
    "kmeans = KMeans()\n",
    "visualizer = KElbowVisualizer(kmeans, k=(2, 10))\n",
    "visualizer.fit(data_pca)\n",
    "k_optimal = visualizer.elbow_value_"
   ]
  },
  {
   "cell_type": "markdown",
   "id": "cfab6dcb",
   "metadata": {},
   "source": [
    "## Treinar o modelo KMeans com o número ótimo de clusters"
   ]
  },
  {
   "cell_type": "code",
   "execution_count": 16,
   "id": "f6da9f6c",
   "metadata": {},
   "outputs": [],
   "source": [
    "kmeans = KMeans(n_clusters=k_optimal, n_init=10)\n",
    "k_fit = kmeans.fit(data_scaled)"
   ]
  },
  {
   "cell_type": "markdown",
   "id": "9932423f",
   "metadata": {},
   "source": [
    "## Adicionar os rótulos dos clusters aos dados originais"
   ]
  },
  {
   "cell_type": "code",
   "execution_count": 17,
   "id": "a1d73441",
   "metadata": {},
   "outputs": [],
   "source": [
    "data['Clusters'] = k_fit.labels_"
   ]
  },
  {
   "cell_type": "markdown",
   "id": "37ccce8b",
   "metadata": {},
   "source": [
    "## Criar um DataFrame com as médias dos traços de personalidade por cluster"
   ]
  },
  {
   "cell_type": "code",
   "execution_count": 18,
   "id": "da9c5fde",
   "metadata": {},
   "outputs": [],
   "source": [
    "data_clusters = data.groupby('Clusters').mean()"
   ]
  },
  {
   "cell_type": "code",
   "execution_count": 19,
   "id": "59c74f8f",
   "metadata": {},
   "outputs": [
    {
     "data": {
      "text/html": [
       "<div>\n",
       "<style scoped>\n",
       "    .dataframe tbody tr th:only-of-type {\n",
       "        vertical-align: middle;\n",
       "    }\n",
       "\n",
       "    .dataframe tbody tr th {\n",
       "        vertical-align: top;\n",
       "    }\n",
       "\n",
       "    .dataframe thead th {\n",
       "        text-align: right;\n",
       "    }\n",
       "</style>\n",
       "<table border=\"1\" class=\"dataframe\">\n",
       "  <thead>\n",
       "    <tr style=\"text-align: right;\">\n",
       "      <th></th>\n",
       "      <th>EXT1</th>\n",
       "      <th>EXT2</th>\n",
       "      <th>EXT3</th>\n",
       "      <th>EXT4</th>\n",
       "      <th>EXT5</th>\n",
       "      <th>EXT6</th>\n",
       "      <th>EXT7</th>\n",
       "      <th>EXT8</th>\n",
       "      <th>EXT9</th>\n",
       "      <th>EXT10</th>\n",
       "      <th>...</th>\n",
       "      <th>OPN2</th>\n",
       "      <th>OPN3</th>\n",
       "      <th>OPN4</th>\n",
       "      <th>OPN5</th>\n",
       "      <th>OPN6</th>\n",
       "      <th>OPN7</th>\n",
       "      <th>OPN8</th>\n",
       "      <th>OPN9</th>\n",
       "      <th>OPN10</th>\n",
       "      <th>Clusters</th>\n",
       "    </tr>\n",
       "  </thead>\n",
       "  <tbody>\n",
       "    <tr>\n",
       "      <th>0</th>\n",
       "      <td>4.0</td>\n",
       "      <td>1.0</td>\n",
       "      <td>5.0</td>\n",
       "      <td>2.0</td>\n",
       "      <td>5.0</td>\n",
       "      <td>1.0</td>\n",
       "      <td>5.0</td>\n",
       "      <td>2.0</td>\n",
       "      <td>4.0</td>\n",
       "      <td>1.0</td>\n",
       "      <td>...</td>\n",
       "      <td>1.0</td>\n",
       "      <td>4.0</td>\n",
       "      <td>1.0</td>\n",
       "      <td>4.0</td>\n",
       "      <td>1.0</td>\n",
       "      <td>5.0</td>\n",
       "      <td>3.0</td>\n",
       "      <td>4.0</td>\n",
       "      <td>5.0</td>\n",
       "      <td>1</td>\n",
       "    </tr>\n",
       "    <tr>\n",
       "      <th>1</th>\n",
       "      <td>3.0</td>\n",
       "      <td>5.0</td>\n",
       "      <td>3.0</td>\n",
       "      <td>4.0</td>\n",
       "      <td>3.0</td>\n",
       "      <td>3.0</td>\n",
       "      <td>2.0</td>\n",
       "      <td>5.0</td>\n",
       "      <td>1.0</td>\n",
       "      <td>5.0</td>\n",
       "      <td>...</td>\n",
       "      <td>2.0</td>\n",
       "      <td>4.0</td>\n",
       "      <td>2.0</td>\n",
       "      <td>3.0</td>\n",
       "      <td>1.0</td>\n",
       "      <td>4.0</td>\n",
       "      <td>2.0</td>\n",
       "      <td>5.0</td>\n",
       "      <td>3.0</td>\n",
       "      <td>0</td>\n",
       "    </tr>\n",
       "    <tr>\n",
       "      <th>2</th>\n",
       "      <td>2.0</td>\n",
       "      <td>3.0</td>\n",
       "      <td>4.0</td>\n",
       "      <td>4.0</td>\n",
       "      <td>3.0</td>\n",
       "      <td>2.0</td>\n",
       "      <td>1.0</td>\n",
       "      <td>3.0</td>\n",
       "      <td>2.0</td>\n",
       "      <td>5.0</td>\n",
       "      <td>...</td>\n",
       "      <td>1.0</td>\n",
       "      <td>2.0</td>\n",
       "      <td>1.0</td>\n",
       "      <td>4.0</td>\n",
       "      <td>2.0</td>\n",
       "      <td>5.0</td>\n",
       "      <td>3.0</td>\n",
       "      <td>4.0</td>\n",
       "      <td>4.0</td>\n",
       "      <td>1</td>\n",
       "    </tr>\n",
       "    <tr>\n",
       "      <th>3</th>\n",
       "      <td>2.0</td>\n",
       "      <td>2.0</td>\n",
       "      <td>2.0</td>\n",
       "      <td>3.0</td>\n",
       "      <td>4.0</td>\n",
       "      <td>2.0</td>\n",
       "      <td>2.0</td>\n",
       "      <td>4.0</td>\n",
       "      <td>1.0</td>\n",
       "      <td>4.0</td>\n",
       "      <td>...</td>\n",
       "      <td>2.0</td>\n",
       "      <td>5.0</td>\n",
       "      <td>2.0</td>\n",
       "      <td>3.0</td>\n",
       "      <td>1.0</td>\n",
       "      <td>4.0</td>\n",
       "      <td>4.0</td>\n",
       "      <td>3.0</td>\n",
       "      <td>3.0</td>\n",
       "      <td>0</td>\n",
       "    </tr>\n",
       "    <tr>\n",
       "      <th>4</th>\n",
       "      <td>3.0</td>\n",
       "      <td>3.0</td>\n",
       "      <td>3.0</td>\n",
       "      <td>3.0</td>\n",
       "      <td>5.0</td>\n",
       "      <td>3.0</td>\n",
       "      <td>3.0</td>\n",
       "      <td>5.0</td>\n",
       "      <td>3.0</td>\n",
       "      <td>4.0</td>\n",
       "      <td>...</td>\n",
       "      <td>1.0</td>\n",
       "      <td>5.0</td>\n",
       "      <td>1.0</td>\n",
       "      <td>5.0</td>\n",
       "      <td>1.0</td>\n",
       "      <td>5.0</td>\n",
       "      <td>3.0</td>\n",
       "      <td>5.0</td>\n",
       "      <td>5.0</td>\n",
       "      <td>1</td>\n",
       "    </tr>\n",
       "  </tbody>\n",
       "</table>\n",
       "<p>5 rows × 51 columns</p>\n",
       "</div>"
      ],
      "text/plain": [
       "   EXT1  EXT2  EXT3  EXT4  EXT5  EXT6  EXT7  EXT8  EXT9  EXT10  ...  OPN2  \\\n",
       "0   4.0   1.0   5.0   2.0   5.0   1.0   5.0   2.0   4.0    1.0  ...   1.0   \n",
       "1   3.0   5.0   3.0   4.0   3.0   3.0   2.0   5.0   1.0    5.0  ...   2.0   \n",
       "2   2.0   3.0   4.0   4.0   3.0   2.0   1.0   3.0   2.0    5.0  ...   1.0   \n",
       "3   2.0   2.0   2.0   3.0   4.0   2.0   2.0   4.0   1.0    4.0  ...   2.0   \n",
       "4   3.0   3.0   3.0   3.0   5.0   3.0   3.0   5.0   3.0    4.0  ...   1.0   \n",
       "\n",
       "   OPN3  OPN4  OPN5  OPN6  OPN7  OPN8  OPN9  OPN10  Clusters  \n",
       "0   4.0   1.0   4.0   1.0   5.0   3.0   4.0    5.0         1  \n",
       "1   4.0   2.0   3.0   1.0   4.0   2.0   5.0    3.0         0  \n",
       "2   2.0   1.0   4.0   2.0   5.0   3.0   4.0    4.0         1  \n",
       "3   5.0   2.0   3.0   1.0   4.0   4.0   3.0    3.0         0  \n",
       "4   5.0   1.0   5.0   1.0   5.0   3.0   5.0    5.0         1  \n",
       "\n",
       "[5 rows x 51 columns]"
      ]
     },
     "execution_count": 19,
     "metadata": {},
     "output_type": "execute_result"
    }
   ],
   "source": [
    "data.head()"
   ]
  },
  {
   "cell_type": "markdown",
   "id": "53c9e7ca",
   "metadata": {},
   "source": [
    "## Analisando os grupos"
   ]
  },
  {
   "cell_type": "code",
   "execution_count": 20,
   "id": "6714137c",
   "metadata": {},
   "outputs": [
    {
     "data": {
      "text/plain": [
       "Clusters\n",
       "0    247065\n",
       "1    245839\n",
       "3    205615\n",
       "2    175915\n",
       "Name: count, dtype: int64"
      ]
     },
     "execution_count": 20,
     "metadata": {},
     "output_type": "execute_result"
    }
   ],
   "source": [
    "data[\"Clusters\"].value_counts()"
   ]
  },
  {
   "cell_type": "markdown",
   "id": "1ced4355",
   "metadata": {},
   "source": [
    "## Agrupando os registros por grupos"
   ]
  },
  {
   "cell_type": "code",
   "execution_count": 21,
   "id": "a9759f89",
   "metadata": {},
   "outputs": [
    {
     "data": {
      "text/html": [
       "<div>\n",
       "<style scoped>\n",
       "    .dataframe tbody tr th:only-of-type {\n",
       "        vertical-align: middle;\n",
       "    }\n",
       "\n",
       "    .dataframe tbody tr th {\n",
       "        vertical-align: top;\n",
       "    }\n",
       "\n",
       "    .dataframe thead th {\n",
       "        text-align: right;\n",
       "    }\n",
       "</style>\n",
       "<table border=\"1\" class=\"dataframe\">\n",
       "  <thead>\n",
       "    <tr style=\"text-align: right;\">\n",
       "      <th></th>\n",
       "      <th>EXT1</th>\n",
       "      <th>EXT2</th>\n",
       "      <th>EXT3</th>\n",
       "      <th>EXT4</th>\n",
       "      <th>EXT5</th>\n",
       "      <th>EXT6</th>\n",
       "      <th>EXT7</th>\n",
       "      <th>EXT8</th>\n",
       "      <th>EXT9</th>\n",
       "      <th>EXT10</th>\n",
       "      <th>...</th>\n",
       "      <th>OPN1</th>\n",
       "      <th>OPN2</th>\n",
       "      <th>OPN3</th>\n",
       "      <th>OPN4</th>\n",
       "      <th>OPN5</th>\n",
       "      <th>OPN6</th>\n",
       "      <th>OPN7</th>\n",
       "      <th>OPN8</th>\n",
       "      <th>OPN9</th>\n",
       "      <th>OPN10</th>\n",
       "    </tr>\n",
       "    <tr>\n",
       "      <th>Clusters</th>\n",
       "      <th></th>\n",
       "      <th></th>\n",
       "      <th></th>\n",
       "      <th></th>\n",
       "      <th></th>\n",
       "      <th></th>\n",
       "      <th></th>\n",
       "      <th></th>\n",
       "      <th></th>\n",
       "      <th></th>\n",
       "      <th></th>\n",
       "      <th></th>\n",
       "      <th></th>\n",
       "      <th></th>\n",
       "      <th></th>\n",
       "      <th></th>\n",
       "      <th></th>\n",
       "      <th></th>\n",
       "      <th></th>\n",
       "      <th></th>\n",
       "      <th></th>\n",
       "    </tr>\n",
       "  </thead>\n",
       "  <tbody>\n",
       "    <tr>\n",
       "      <th>0</th>\n",
       "      <td>1.913088</td>\n",
       "      <td>3.529658</td>\n",
       "      <td>2.522939</td>\n",
       "      <td>3.977322</td>\n",
       "      <td>2.528173</td>\n",
       "      <td>3.078603</td>\n",
       "      <td>1.913930</td>\n",
       "      <td>4.088369</td>\n",
       "      <td>2.195277</td>\n",
       "      <td>4.412733</td>\n",
       "      <td>...</td>\n",
       "      <td>3.453071</td>\n",
       "      <td>2.419040</td>\n",
       "      <td>3.991808</td>\n",
       "      <td>2.171659</td>\n",
       "      <td>3.436213</td>\n",
       "      <td>2.118034</td>\n",
       "      <td>3.711736</td>\n",
       "      <td>3.035035</td>\n",
       "      <td>4.303471</td>\n",
       "      <td>3.662239</td>\n",
       "    </tr>\n",
       "    <tr>\n",
       "      <th>1</th>\n",
       "      <td>3.070774</td>\n",
       "      <td>2.348098</td>\n",
       "      <td>4.061406</td>\n",
       "      <td>2.638621</td>\n",
       "      <td>3.945176</td>\n",
       "      <td>1.931122</td>\n",
       "      <td>3.412217</td>\n",
       "      <td>3.193769</td>\n",
       "      <td>3.334032</td>\n",
       "      <td>2.996530</td>\n",
       "      <td>...</td>\n",
       "      <td>3.837369</td>\n",
       "      <td>1.817730</td>\n",
       "      <td>4.019387</td>\n",
       "      <td>1.849824</td>\n",
       "      <td>4.084039</td>\n",
       "      <td>1.731666</td>\n",
       "      <td>4.298630</td>\n",
       "      <td>3.162082</td>\n",
       "      <td>4.164901</td>\n",
       "      <td>4.182502</td>\n",
       "    </tr>\n",
       "    <tr>\n",
       "      <th>2</th>\n",
       "      <td>2.112208</td>\n",
       "      <td>3.468454</td>\n",
       "      <td>2.681875</td>\n",
       "      <td>3.627462</td>\n",
       "      <td>2.554131</td>\n",
       "      <td>2.923429</td>\n",
       "      <td>2.071944</td>\n",
       "      <td>3.746895</td>\n",
       "      <td>2.616934</td>\n",
       "      <td>4.034238</td>\n",
       "      <td>...</td>\n",
       "      <td>3.699923</td>\n",
       "      <td>2.023142</td>\n",
       "      <td>3.777080</td>\n",
       "      <td>2.109451</td>\n",
       "      <td>3.756257</td>\n",
       "      <td>2.097030</td>\n",
       "      <td>4.047756</td>\n",
       "      <td>3.298940</td>\n",
       "      <td>3.907006</td>\n",
       "      <td>3.804707</td>\n",
       "    </tr>\n",
       "    <tr>\n",
       "      <th>3</th>\n",
       "      <td>3.474173</td>\n",
       "      <td>1.874173</td>\n",
       "      <td>3.847783</td>\n",
       "      <td>2.434545</td>\n",
       "      <td>4.083583</td>\n",
       "      <td>1.745106</td>\n",
       "      <td>3.672582</td>\n",
       "      <td>2.709715</td>\n",
       "      <td>3.808273</td>\n",
       "      <td>2.923605</td>\n",
       "      <td>...</td>\n",
       "      <td>3.845400</td>\n",
       "      <td>1.994563</td>\n",
       "      <td>4.326265</td>\n",
       "      <td>1.860472</td>\n",
       "      <td>4.038314</td>\n",
       "      <td>1.675821</td>\n",
       "      <td>4.043139</td>\n",
       "      <td>3.449661</td>\n",
       "      <td>4.226856</td>\n",
       "      <td>4.286429</td>\n",
       "    </tr>\n",
       "  </tbody>\n",
       "</table>\n",
       "<p>4 rows × 50 columns</p>\n",
       "</div>"
      ],
      "text/plain": [
       "              EXT1      EXT2      EXT3      EXT4      EXT5      EXT6  \\\n",
       "Clusters                                                               \n",
       "0         1.913088  3.529658  2.522939  3.977322  2.528173  3.078603   \n",
       "1         3.070774  2.348098  4.061406  2.638621  3.945176  1.931122   \n",
       "2         2.112208  3.468454  2.681875  3.627462  2.554131  2.923429   \n",
       "3         3.474173  1.874173  3.847783  2.434545  4.083583  1.745106   \n",
       "\n",
       "              EXT7      EXT8      EXT9     EXT10  ...      OPN1      OPN2  \\\n",
       "Clusters                                          ...                       \n",
       "0         1.913930  4.088369  2.195277  4.412733  ...  3.453071  2.419040   \n",
       "1         3.412217  3.193769  3.334032  2.996530  ...  3.837369  1.817730   \n",
       "2         2.071944  3.746895  2.616934  4.034238  ...  3.699923  2.023142   \n",
       "3         3.672582  2.709715  3.808273  2.923605  ...  3.845400  1.994563   \n",
       "\n",
       "              OPN3      OPN4      OPN5      OPN6      OPN7      OPN8  \\\n",
       "Clusters                                                               \n",
       "0         3.991808  2.171659  3.436213  2.118034  3.711736  3.035035   \n",
       "1         4.019387  1.849824  4.084039  1.731666  4.298630  3.162082   \n",
       "2         3.777080  2.109451  3.756257  2.097030  4.047756  3.298940   \n",
       "3         4.326265  1.860472  4.038314  1.675821  4.043139  3.449661   \n",
       "\n",
       "              OPN9     OPN10  \n",
       "Clusters                      \n",
       "0         4.303471  3.662239  \n",
       "1         4.164901  4.182502  \n",
       "2         3.907006  3.804707  \n",
       "3         4.226856  4.286429  \n",
       "\n",
       "[4 rows x 50 columns]"
      ]
     },
     "execution_count": 21,
     "metadata": {},
     "output_type": "execute_result"
    }
   ],
   "source": [
    "data.groupby('Clusters').mean()"
   ]
  },
  {
   "cell_type": "code",
   "execution_count": 22,
   "id": "2f0d9b2c",
   "metadata": {},
   "outputs": [],
   "source": [
    "predicoes = k_fit.labels_"
   ]
  },
  {
   "cell_type": "markdown",
   "id": "e4b41d46",
   "metadata": {},
   "source": [
    "## Calculando a média de cada grupo de questões para verificar um padrão e selecionando as colunas de cada grupo."
   ]
  },
  {
   "cell_type": "code",
   "execution_count": 23,
   "id": "efbfb3ef",
   "metadata": {},
   "outputs": [],
   "source": [
    "col_list = list(data)\n",
    "ext = col_list[0:10]\n",
    "est = col_list[10:20]\n",
    "agr = col_list[20:30]\n",
    "csn = col_list[30:40]\n",
    "opn = col_list[40:50]"
   ]
  },
  {
   "cell_type": "markdown",
   "id": "5b575e91",
   "metadata": {},
   "source": [
    "## Somando os valores de cada grupo"
   ]
  },
  {
   "cell_type": "code",
   "execution_count": 24,
   "id": "e9739b97",
   "metadata": {},
   "outputs": [],
   "source": [
    "data_soma = pd.DataFrame()\n",
    "data_soma['extroversion'] = data[ext].sum(axis=1)/10\n",
    "data_soma['neurotic'] = data[est].sum(axis=1)/10\n",
    "data_soma['agreeable'] = data[agr].sum(axis=1)/10\n",
    "data_soma['conscientious'] = data[csn].sum(axis=1)/10\n",
    "data_soma['open'] = data[opn].sum(axis=1)/10\n",
    "data_soma['clusters'] = predicoes"
   ]
  },
  {
   "cell_type": "markdown",
   "id": "064ec550",
   "metadata": {},
   "source": [
    "## Valor médio por grupo"
   ]
  },
  {
   "cell_type": "code",
   "execution_count": 25,
   "id": "6306f600",
   "metadata": {},
   "outputs": [
    {
     "data": {
      "text/html": [
       "<div>\n",
       "<style scoped>\n",
       "    .dataframe tbody tr th:only-of-type {\n",
       "        vertical-align: middle;\n",
       "    }\n",
       "\n",
       "    .dataframe tbody tr th {\n",
       "        vertical-align: top;\n",
       "    }\n",
       "\n",
       "    .dataframe thead th {\n",
       "        text-align: right;\n",
       "    }\n",
       "</style>\n",
       "<table border=\"1\" class=\"dataframe\">\n",
       "  <thead>\n",
       "    <tr style=\"text-align: right;\">\n",
       "      <th></th>\n",
       "      <th>extroversion</th>\n",
       "      <th>neurotic</th>\n",
       "      <th>agreeable</th>\n",
       "      <th>conscientious</th>\n",
       "      <th>open</th>\n",
       "    </tr>\n",
       "    <tr>\n",
       "      <th>clusters</th>\n",
       "      <th></th>\n",
       "      <th></th>\n",
       "      <th></th>\n",
       "      <th></th>\n",
       "      <th></th>\n",
       "    </tr>\n",
       "  </thead>\n",
       "  <tbody>\n",
       "    <tr>\n",
       "      <th>0</th>\n",
       "      <td>3.016009</td>\n",
       "      <td>3.519808</td>\n",
       "      <td>3.210724</td>\n",
       "      <td>3.194319</td>\n",
       "      <td>3.230231</td>\n",
       "    </tr>\n",
       "    <tr>\n",
       "      <th>1</th>\n",
       "      <td>3.093174</td>\n",
       "      <td>2.503661</td>\n",
       "      <td>3.211635</td>\n",
       "      <td>3.137513</td>\n",
       "      <td>3.314813</td>\n",
       "    </tr>\n",
       "    <tr>\n",
       "      <th>2</th>\n",
       "      <td>2.983757</td>\n",
       "      <td>2.787738</td>\n",
       "      <td>2.936931</td>\n",
       "      <td>3.048239</td>\n",
       "      <td>3.252129</td>\n",
       "    </tr>\n",
       "    <tr>\n",
       "      <th>3</th>\n",
       "      <td>3.057354</td>\n",
       "      <td>3.337052</td>\n",
       "      <td>3.296622</td>\n",
       "      <td>3.184343</td>\n",
       "      <td>3.374692</td>\n",
       "    </tr>\n",
       "  </tbody>\n",
       "</table>\n",
       "</div>"
      ],
      "text/plain": [
       "          extroversion  neurotic  agreeable  conscientious      open\n",
       "clusters                                                            \n",
       "0             3.016009  3.519808   3.210724       3.194319  3.230231\n",
       "1             3.093174  2.503661   3.211635       3.137513  3.314813\n",
       "2             2.983757  2.787738   2.936931       3.048239  3.252129\n",
       "3             3.057354  3.337052   3.296622       3.184343  3.374692"
      ]
     },
     "execution_count": 25,
     "metadata": {},
     "output_type": "execute_result"
    }
   ],
   "source": [
    "data_soma.groupby('clusters').mean()"
   ]
  },
  {
   "cell_type": "markdown",
   "id": "7c957f83",
   "metadata": {},
   "source": [
    "## Média dos grupos"
   ]
  },
  {
   "cell_type": "code",
   "execution_count": 26,
   "id": "a044e864",
   "metadata": {},
   "outputs": [],
   "source": [
    "data_clusters = data_soma.groupby('clusters').mean()"
   ]
  },
  {
   "cell_type": "markdown",
   "id": "bb6d93c2",
   "metadata": {},
   "source": [
    "## Visualização dos resultados"
   ]
  },
  {
   "cell_type": "code",
   "execution_count": 27,
   "id": "d9f7a357",
   "metadata": {},
   "outputs": [
    {
     "data": {
      "image/png": "[encoded data removed]",
      "text/plain": [
       "<Figure size 1200x600 with 4 Axes>"
      ]
     },
     "metadata": {},
     "output_type": "display_data"
    }
   ],
   "source": [
    "plt.figure(figsize=(12, 6))\n",
    "for i in range(k_optimal):\n",
    "    plt.subplot(1, k_optimal, i + 1)\n",
    "    plt.bar(data_clusters.columns, data_clusters.iloc[i], color='green', alpha=0.5)\n",
    "    plt.plot(data_clusters.columns, data_clusters.iloc[i], color='red')\n",
    "    plt.title(f'Grupo {i}')\n",
    "    plt.xticks(rotation=45)\n",
    "    plt.ylim(0, 4)"
   ]
  },
  {
   "cell_type": "markdown",
   "id": "ebb462b9",
   "metadata": {},
   "source": []
  },
  {
   "cell_type": "code",
   "execution_count": 28,
   "id": "91f91366",
   "metadata": {},
   "outputs": [],
   "source": [
    "data[:0].to_excel(\"perguntas.xlsx\",index=False)"
   ]
  },
  {
   "cell_type": "code",
   "execution_count": 29,
   "id": "f1826210",
   "metadata": {},
   "outputs": [],
   "source": [
    "meus_dados = pd.read_excel('perguntas.xlsx')"
   ]
  },
  {
   "cell_type": "markdown",
   "id": "d0a3de85",
   "metadata": {},
   "source": [
    "## Importando questões"
   ]
  },
  {
   "cell_type": "code",
   "execution_count": 30,
   "id": "d269d5ed",
   "metadata": {},
   "outputs": [
    {
     "data": {
      "text/plain": [
       "['EXT1\\tI am the life of the party.',\n",
       " \"EXT2\\tI don't talk a lot.\",\n",
       " 'EXT3\\tI feel comfortable around people.',\n",
       " 'EXT4\\tI keep in the background.',\n",
       " 'EXT5\\tI start conversations.',\n",
       " 'EXT6\\tI have little to say.',\n",
       " 'EXT7\\tI talk to a lot of different people at parties.',\n",
       " \"EXT8\\tI don't like to draw attention to myself.\",\n",
       " \"EXT9\\tI don't mind being the center of attention.\",\n",
       " 'EXT10\\tI am quiet around strangers.',\n",
       " 'EST1\\tI get stressed out easily.',\n",
       " 'EST2\\tI am relaxed most of the time.',\n",
       " 'EST3\\tI worry about things.',\n",
       " 'EST4\\tI seldom feel blue.',\n",
       " 'EST5\\tI am easily disturbed.',\n",
       " 'EST6\\tI get upset easily.',\n",
       " 'EST7\\tI change my mood a lot.',\n",
       " 'EST8\\tI have frequent mood swings.',\n",
       " 'EST9\\tI get irritated easily.',\n",
       " 'EST10\\tI often feel blue.',\n",
       " 'AGR1\\tI feel little concern for others.',\n",
       " 'AGR2\\tI am interested in people.',\n",
       " 'AGR3\\tI insult people.',\n",
       " \"AGR4\\tI sympathize with others' feelings.\",\n",
       " \"AGR5\\tI am not interested in other people's problems.\",\n",
       " 'AGR6\\tI have a soft heart.',\n",
       " 'AGR7\\tI am not really interested in others.',\n",
       " 'AGR8\\tI take time out for others.',\n",
       " \"AGR9\\tI feel others' emotions.\",\n",
       " 'AGR10\\tI make people feel at ease.',\n",
       " 'CSN1\\tI am always prepared.',\n",
       " 'CSN2\\tI leave my belongings around.',\n",
       " 'CSN3\\tI pay attention to details.',\n",
       " 'CSN4\\tI make a mess of things.',\n",
       " 'CSN5\\tI get chores done right away.',\n",
       " 'CSN6\\tI often forget to put things back in their proper place.',\n",
       " 'CSN7\\tI like order.',\n",
       " 'CSN8\\tI shirk my duties.',\n",
       " 'CSN9\\tI follow a schedule.',\n",
       " 'CSN10\\tI am exacting in my work.',\n",
       " 'OPN1\\tI have a rich vocabulary.',\n",
       " 'OPN2\\tI have difficulty understanding abstract ideas.',\n",
       " 'OPN3\\tI have a vivid imagination.',\n",
       " 'OPN4\\tI am not interested in abstract ideas.',\n",
       " 'OPN5\\tI have excellent ideas.',\n",
       " 'OPN6\\tI do not have a good imagination.',\n",
       " 'OPN7\\tI am quick to understand things.',\n",
       " 'OPN8\\tI use difficult words.',\n",
       " 'OPN9\\tI spend time reflecting on things.',\n",
       " 'OPN10\\tI am full of ideas.']"
      ]
     },
     "execution_count": 30,
     "metadata": {},
     "output_type": "execute_result"
    }
   ],
   "source": [
    "dicio_questions = open(\"questions.txt\").read().split(\"\\n\")\n",
    "dicio_questions"
   ]
  },
  {
   "cell_type": "code",
   "execution_count": 31,
   "id": "393561fc",
   "metadata": {},
   "outputs": [],
   "source": [
    "questions = []\n",
    "for q in dicio_questions:\n",
    "  q = str(q)\n",
    "  questions.append(q[q.find(\"\\t\"):].lstrip())"
   ]
  },
  {
   "cell_type": "code",
   "execution_count": 32,
   "id": "72bf63bf",
   "metadata": {},
   "outputs": [
    {
     "data": {
      "text/plain": [
       "['I am the life of the party.',\n",
       " \"I don't talk a lot.\",\n",
       " 'I feel comfortable around people.',\n",
       " 'I keep in the background.',\n",
       " 'I start conversations.',\n",
       " 'I have little to say.',\n",
       " 'I talk to a lot of different people at parties.',\n",
       " \"I don't like to draw attention to myself.\",\n",
       " \"I don't mind being the center of attention.\",\n",
       " 'I am quiet around strangers.',\n",
       " 'I get stressed out easily.',\n",
       " 'I am relaxed most of the time.',\n",
       " 'I worry about things.',\n",
       " 'I seldom feel blue.',\n",
       " 'I am easily disturbed.',\n",
       " 'I get upset easily.',\n",
       " 'I change my mood a lot.',\n",
       " 'I have frequent mood swings.',\n",
       " 'I get irritated easily.',\n",
       " 'I often feel blue.',\n",
       " 'I feel little concern for others.',\n",
       " 'I am interested in people.',\n",
       " 'I insult people.',\n",
       " \"I sympathize with others' feelings.\",\n",
       " \"I am not interested in other people's problems.\",\n",
       " 'I have a soft heart.',\n",
       " 'I am not really interested in others.',\n",
       " 'I take time out for others.',\n",
       " \"I feel others' emotions.\",\n",
       " 'I make people feel at ease.',\n",
       " 'I am always prepared.',\n",
       " 'I leave my belongings around.',\n",
       " 'I pay attention to details.',\n",
       " 'I make a mess of things.',\n",
       " 'I get chores done right away.',\n",
       " 'I often forget to put things back in their proper place.',\n",
       " 'I like order.',\n",
       " 'I shirk my duties.',\n",
       " 'I follow a schedule.',\n",
       " 'I am exacting in my work.',\n",
       " 'I have a rich vocabulary.',\n",
       " 'I have difficulty understanding abstract ideas.',\n",
       " 'I have a vivid imagination.',\n",
       " 'I am not interested in abstract ideas.',\n",
       " 'I have excellent ideas.',\n",
       " 'I do not have a good imagination.',\n",
       " 'I am quick to understand things.',\n",
       " 'I use difficult words.',\n",
       " 'I spend time reflecting on things.',\n",
       " 'I am full of ideas.']"
      ]
     },
     "execution_count": 32,
     "metadata": {},
     "output_type": "execute_result"
    }
   ],
   "source": [
    "questions"
   ]
  },
  {
   "cell_type": "markdown",
   "id": "3f1d3546",
   "metadata": {},
   "source": [
    "## Inpus do gradio"
   ]
  },
  {
   "cell_type": "code",
   "execution_count": 33,
   "id": "9536e107",
   "metadata": {},
   "outputs": [
    {
     "name": "stderr",
     "output_type": "stream",
     "text": [
      "C:\\Users\\User\\AppData\\Local\\Temp\\ipykernel_4040\\123639327.py:3: GradioDeprecationWarning: Usage of gradio.inputs is deprecated, and will not be supported in the future, please import your component from gradio.components\n",
      "  obj_input = gr.inputs.Slider(minimum=1,maximum=5,step=1,default=3,label=q)\n",
      "C:\\Users\\User\\AppData\\Local\\Temp\\ipykernel_4040\\123639327.py:3: GradioDeprecationWarning: `optional` parameter is deprecated, and it has no effect\n",
      "  obj_input = gr.inputs.Slider(minimum=1,maximum=5,step=1,default=3,label=q)\n"
     ]
    }
   ],
   "source": [
    "inputs_questions = []\n",
    "for q in questions:\n",
    "  obj_input = gr.inputs.Slider(minimum=1,maximum=5,step=1,default=3,label=q)\n",
    "  inputs_questions.append(obj_input)"
   ]
  },
  {
   "cell_type": "markdown",
   "id": "d0eebce1",
   "metadata": {},
   "source": [
    "## Interface interativa com gradio"
   ]
  },
  {
   "cell_type": "code",
   "execution_count": 34,
   "id": "caee584a",
   "metadata": {},
   "outputs": [
    {
     "data": {
      "text/plain": [
       "[slider,\n",
       " slider,\n",
       " slider,\n",
       " slider,\n",
       " slider,\n",
       " slider,\n",
       " slider,\n",
       " slider,\n",
       " slider,\n",
       " slider,\n",
       " slider,\n",
       " slider,\n",
       " slider,\n",
       " slider,\n",
       " slider,\n",
       " slider,\n",
       " slider,\n",
       " slider,\n",
       " slider,\n",
       " slider,\n",
       " slider,\n",
       " slider,\n",
       " slider,\n",
       " slider,\n",
       " slider,\n",
       " slider,\n",
       " slider,\n",
       " slider,\n",
       " slider,\n",
       " slider,\n",
       " slider,\n",
       " slider,\n",
       " slider,\n",
       " slider,\n",
       " slider,\n",
       " slider,\n",
       " slider,\n",
       " slider,\n",
       " slider,\n",
       " slider,\n",
       " slider,\n",
       " slider,\n",
       " slider,\n",
       " slider,\n",
       " slider,\n",
       " slider,\n",
       " slider,\n",
       " slider,\n",
       " slider,\n",
       " slider]"
      ]
     },
     "execution_count": 34,
     "metadata": {},
     "output_type": "execute_result"
    }
   ],
   "source": [
    "inputs_questions"
   ]
  },
  {
   "cell_type": "code",
   "execution_count": 35,
   "id": "9b472145",
   "metadata": {},
   "outputs": [
    {
     "name": "stdout",
     "output_type": "stream",
     "text": [
      "Running on local URL:  http://127.0.0.1:7860\n",
      "\n",
      "Could not create share link. Please check your internet connection or our status page: https://status.gradio.app.\n"
     ]
    },
    {
     "data": {
      "text/html": [
       "<div><iframe src=\"http://127.0.0.1:7860/\" width=\"100%\" height=\"500\" allow=\"autoplay; camera; microphone; clipboard-read; clipboard-write;\" frameborder=\"0\" allowfullscreen></iframe></div>"
      ],
      "text/plain": [
       "<IPython.core.display.HTML object>"
      ]
     },
     "metadata": {},
     "output_type": "display_data"
    },
    {
     "data": {
      "text/plain": []
     },
     "execution_count": 35,
     "metadata": {},
     "output_type": "execute_result"
    }
   ],
   "source": [
    "def predict(*outputs_questions):\n",
    "    outputs_questions = np.array(outputs_questions).reshape(1, -1)\n",
    "    return k_fit.predict(outputs_questions)[0]\n",
    "\n",
    "iface = gr.Interface(\n",
    "    fn=predict,\n",
    "    title=\"Big Five Personality\",\n",
    "    description=\"Sistema para detecção de traços de personalidade.\",\n",
    "    inputs=inputs_questions,\n",
    "    outputs=\"text\"\n",
    ")\n",
    "iface.launch(share=True)"
   ]
  }
 ],
 "metadata": {
  "kernelspec": {
   "display_name": "Python 3 (ipykernel)",
   "language": "python",
   "name": "python3"
  },
  "language_info": {
   "codemirror_mode": {
    "name": "ipython",
    "version": 3
   },
   "file_extension": ".py",
   "mimetype": "text/x-python",
   "name": "python",
   "nbconvert_exporter": "python",
   "pygments_lexer": "ipython3",
   "version": "3.11.5"
  }
 },
 "nbformat": 4,
 "nbformat_minor": 5
}
